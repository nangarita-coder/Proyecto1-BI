{
  "nbformat": 4,
  "nbformat_minor": 0,
  "metadata": {
    "colab": {
      "provenance": []
    },
    "kernelspec": {
      "name": "python3",
      "display_name": "Python 3"
    },
    "language_info": {
      "name": "python"
    }
  },
  "cells": [
    {
      "cell_type": "code",
      "execution_count": 1,
      "metadata": {
        "id": "hRfBWtHdYhIB"
      },
      "outputs": [],
      "source": [
        "import string\n",
        "\n",
        "import numpy as np\n",
        "import pandas as pd\n",
        "\n",
        "import nltk\n",
        "from nltk.corpus import stopwords\n",
        "from nltk.tokenize import TweetTokenizer\n",
        "\n",
        "from sklearn.model_selection import train_test_split\n",
        "from sklearn.feature_extraction.text import CountVectorizer, TfidfVectorizer\n",
        "\n",
        "from sklearn.ensemble import RandomForestClassifier\n",
        "\n",
        "from sklearn.pipeline import Pipeline\n",
        "from sklearn.model_selection import GridSearchCV\n",
        "\n",
        "from sklearn.metrics import ConfusionMatrixDisplay, precision_score, recall_score, f1_score"
      ]
    },
    {
      "cell_type": "code",
      "source": [
        "pd.set_option('display.max_colwidth', None)"
      ],
      "metadata": {
        "id": "ywSRd_XmZQAY"
      },
      "execution_count": 2,
      "outputs": []
    },
    {
      "cell_type": "code",
      "source": [
        "nltk.download('stopwords')\n",
        "stop_words = set(stopwords.words('english'))"
      ],
      "metadata": {
        "colab": {
          "base_uri": "https://localhost:8080/"
        },
        "id": "YfIs2518DSVI",
        "outputId": "baea16e5-187f-4c5f-ce0b-6dfda0cb5837"
      },
      "execution_count": 3,
      "outputs": [
        {
          "output_type": "stream",
          "name": "stderr",
          "text": [
            "[nltk_data] Downloading package stopwords to /root/nltk_data...\n",
            "[nltk_data]   Unzipping corpora/stopwords.zip.\n"
          ]
        }
      ]
    },
    {
      "cell_type": "code",
      "source": [
        "def tokenizer(text):\n",
        "    tt = TweetTokenizer()\n",
        "    return tt.tokenize(text)"
      ],
      "metadata": {
        "id": "c42d54mvDYzv"
      },
      "execution_count": 4,
      "outputs": []
    },
    {
      "cell_type": "code",
      "source": [
        "data = pd.read_csv('/content/data.csv', sep = ',', error_bad_lines=False,engine='python')"
      ],
      "metadata": {
        "colab": {
          "base_uri": "https://localhost:8080/"
        },
        "id": "On4iJiaODa8e",
        "outputId": "4c9332e0-ac3f-4b03-bab0-5f3f7c89a301"
      },
      "execution_count": 9,
      "outputs": [
        {
          "output_type": "stream",
          "name": "stderr",
          "text": [
            "Skipping line 159744: unexpected end of data\n"
          ]
        }
      ]
    },
    {
      "cell_type": "code",
      "source": [
        "data.shape"
      ],
      "metadata": {
        "colab": {
          "base_uri": "https://localhost:8080/"
        },
        "id": "HJ9rvS7dFihP",
        "outputId": "8e1b49e2-97a9-4908-d96d-35a1a3362229"
      },
      "execution_count": 10,
      "outputs": [
        {
          "output_type": "execute_result",
          "data": {
            "text/plain": [
              "(159742, 2)"
            ]
          },
          "metadata": {},
          "execution_count": 10
        }
      ]
    },
    {
      "cell_type": "code",
      "source": [
        "data.sample(5)"
      ],
      "metadata": {
        "colab": {
          "base_uri": "https://localhost:8080/",
          "height": 667
        },
        "id": "njfaIPpFFwd_",
        "outputId": "118d1baf-3a78-48d5-a142-0ee6427a733d"
      },
      "execution_count": 11,
      "outputs": [
        {
          "output_type": "execute_result",
          "data": {
            "text/plain": [
              "                                                                                                                                                                                                                                                                                                                                                                                                                                                                                                                                                                                                                                                                                                                                                                                                                                                                                                                                                                                                                                                                                                                                                                                                                                                                                                                                                                                                                                                                                                                                                                                                                                                                                                                                                                                                                                                                                                                                                                                                                                                                                                                                                                                                                                                                                                                                                                                                                                                                                                                                                                                                                                                                                                                                                                                                                                                                                                                                                                                                                                                                                                                                                                                                                                                                                                                                                                                                                                                                                                                                                                                                                                                                                                          text  \\\n",
              "102976                                                                                                                                                                                                                                                                                                                                                                                                                                                                                                                                                                                                                                                                                                                                                                                                                                                                                                                                                                                                                                                                                                                                                                                                                                                                                                                                                                                                                                                                                                                                                                                                                                                                                                                                                                                                                                                                                                                                                                                                                                                                                                                                                                                                                                                                                                                                                                                                                                                                                                                                                                                                                                                    I was so happy to see a ramen restaurant in our neighborhood! I was waiting to try this restaurant for awhile and finally had the chance today.\\n\\nMy wife and I ordered spicy miso ramen and chicken katsu curry plate.\\nFirst of all, the ramen was good. The soup was not bland and overall presentation and the quantity was good. I wish they had option to add extra noodles. The quality was good to the point that I don't think I'll have to take a trip to center city for ramen.\\n\\nKatsu however, seems a bit lacking. First of all, the curry taste like straight up instant Golden Curry cubes you find in Asian Market. Nothing special, there's nothing inside the curry other than curry itself. Plus they are using chicken thigh not chicken breast meat. I personally like breast for katsu, but I'm sure there are those who would careless. \\nBut at the end of the day, this is not a katsu/curry restaurant hence the 4 stars. \\n\\nWould come back again to try the bbq and other ramen! Great addition to the neighborhood.   \n",
              "106853                                                                                                                                                                                                                                                                                                                                                                                                                                                                                                                                                                                                                                                                                                                                                                                                                                                                                                                                                                                                                                                                                                                                                                                                                                                                                                                                                                                                                                                                                                                                                                                                                                                                                                                                                                                                                                                                                                                                                                                                                                                                                                                                                                                                                                                                                                                                                                                                                                                                                                                                                                                                                                                                                                                                                                                                                                                                                                                                                             After begging my wife for years to give this place a try, based on the overwhelmingly positive YELP reviews (my wife was reluctant to get food from a gas station), she finally caved.\\n\\nQuite a find. Amazing food. Friendly service. Probably the best food in the area (I put the place on a par with the local TJ's).\\n\\nFresh food. Turkey in the turkey sandwich was real turkey and not lunch meat. Well balanced flavors. Large proportions. Reasonable prices (some items quite inexpensive!)\\n\\nI messed my shirt inhaling the grilled brie sandwich with fig jam but it was worth it!\\n\\nSalted caramel cheesecake was to die for. Best we ever had. Lady who arrived after us had come for it, but we had bought the last one.   \n",
              "123472  I'm torn. When I graduated in 2016 I was so proud. I'm a first generation graduate. But I haven't been able to get a job. It's a regional school. They don't know anything about it on the west coast. By 2017 I was unhoused (homeless). I must mention that I came out just before graduation. I was flying high and said f*** it. But the alumni didn't want to help me clothe the homeless. I was gonna outfit them when I lived in Cali on the streets. Give em to Berkeley and Stanford unhoused residents. As a tongue-in-cheek jab at the white collar schools who cater to the rich out there. It would've put us on the map out there and also done good for ppl. C'est la vie. \\n\\nMy time as a double major was difficult. But they gave me the opportunity to study abroad and it opened my eyes. Abroad was where I came to terms with my sexuality and then my gender identity. It was monumental. But I was always treated by the school as a number not a person. Like tuc43202 (not my student id num but u get the gist). \\n\\nThe professors were incredible. The education is on par with Penn. No doubt. My professors were doctors some were published. On tv. And well known. As well as respected. Ivy League schools are only considered better bcuz rich ppl said so. They also donate more as alums. Bcuz they can. So they can fund projects and legacies. But what's written in our textbooks is the same info as the Ivy league. They don't learn alternative facts. We learn the same material from great professors. \\n\\nUndoubtedly I learned so much. But I commuted from home. I know the area well. It's not safe outside the campus. Which is a failure of the city. Moreover the lack of opportunity. The city is run by the rich. Rittenhouse square is so close yet so far removed from Kensington. The problem with North Philly lies in the bloody hands of capitalism. \\n\\nBut it's not that bad. As Temple has PA's third largest police force. They patrol like a mf. Which is good for the students but tense for the bipoc residents close by. \\n\\nAfter graduating I was sent an extraordinary bill. Which I will never pay back. I'm too poor. Coming out was cool but it didn't help me career wise. But so what. I'm me fu if ya don't like it. \\n\\nThe school was great. No doubt. But the elites in charge are more concerned with profits than people. But our institutions are not wholly to blame. Though my diploma has the name of a dean who left in disgrace. It's the gov't who made it this way. Who fail to educate everyone who wishes to be. As a university with public funding one would think it would be free, like my high school was. Local taxes paid for my education. State taxes should pay state colleges. But I digress. \\n\\nOverall, I would still recommend this school. Even though I hate the front office and the alumni. Who also make getting a new diploma with my new name a real chore. They still have phenomenal educators. The students are brilliant and they can be quite helpful and fun to talk to. But it's a large school. Bugger than some towns. So there's some jerks too. No shortage. But the food on campus was pretty damn good. Kinda nice surprise. \\n\\nThe student center is cool af. Loved the library too. And from some of the top floors are stunning cityscape views. Honestly, this is a great school that is underrated nationally. But rankings are arbitrary nonsense that cater to wealth. They don't capture the truth. This place can hold its own with any school. I'm glad I went here. Even though I'm off and on unhoused, chronically unemployed, and seriously struggling.   \n",
              "112233                                                                                                                                                                                                                                                                                                                                                                                                                                                                                                                                                                                                                                                                                                                                                                                                                                                                                                                                                                                                                                                                                                                                                                                                                                                                                                                                                                                                                                                                                                                                                                                                                                                                                                                                                                                                                                                                                                                                                                                                                                                                                                                                                                                                                                                                                                                                                                                                                                                                                                                                                                                                                                                                                                                                                                                                                                                                                                                                                                                                                                                                                                                                                                                                                                                                                                                                                                                                                                                                                                                                                                                 Jackie did a beautiful job on my pedicure. She is an artist. Very nice place to relax and affordable too. Thank you!!!!   \n",
              "133972                                                                                                                                                                                                                                                                                                                                                                                                                                                                                                                                                                                                                                                                                                                                                                                                                                                                                                                                                                                                                                                                                                                                                                                                                                                                                                                                                                                                                                                                                                                                                                                                                                                                                                                                                                                                                                                                                                                                                                                                                                                                                                                                                                                                                                                                                                                                                                                                                                                                                                                                                                                                                                                                                                                                                                                                                                                                                                                                                                                                                                                                                                                                                                                                                                                                                                                 Jeff and Geoff are excellent. The attention to detail, the humor provided and the kindness, and the age-appropriate lessons are amazing. The ease of scheduling online is very convenient. Excellent swimmers who are now sharing their love of the sport and their expertise with little ones. I couldn't be happier with how much my son has learned in only four lessons. Thankyou!!   \n",
              "\n",
              "        stars  \n",
              "102976      4  \n",
              "106853      5  \n",
              "123472      3  \n",
              "112233      5  \n",
              "133972      5  "
            ],
            "text/html": [
              "\n",
              "  <div id=\"df-02f1bfc6-a3ac-443c-b480-95e58c216226\">\n",
              "    <div class=\"colab-df-container\">\n",
              "      <div>\n",
              "<style scoped>\n",
              "    .dataframe tbody tr th:only-of-type {\n",
              "        vertical-align: middle;\n",
              "    }\n",
              "\n",
              "    .dataframe tbody tr th {\n",
              "        vertical-align: top;\n",
              "    }\n",
              "\n",
              "    .dataframe thead th {\n",
              "        text-align: right;\n",
              "    }\n",
              "</style>\n",
              "<table border=\"1\" class=\"dataframe\">\n",
              "  <thead>\n",
              "    <tr style=\"text-align: right;\">\n",
              "      <th></th>\n",
              "      <th>text</th>\n",
              "      <th>stars</th>\n",
              "    </tr>\n",
              "  </thead>\n",
              "  <tbody>\n",
              "    <tr>\n",
              "      <th>102976</th>\n",
              "      <td>I was so happy to see a ramen restaurant in our neighborhood! I was waiting to try this restaurant for awhile and finally had the chance today.\\n\\nMy wife and I ordered spicy miso ramen and chicken katsu curry plate.\\nFirst of all, the ramen was good. The soup was not bland and overall presentation and the quantity was good. I wish they had option to add extra noodles. The quality was good to the point that I don't think I'll have to take a trip to center city for ramen.\\n\\nKatsu however, seems a bit lacking. First of all, the curry taste like straight up instant Golden Curry cubes you find in Asian Market. Nothing special, there's nothing inside the curry other than curry itself. Plus they are using chicken thigh not chicken breast meat. I personally like breast for katsu, but I'm sure there are those who would careless. \\nBut at the end of the day, this is not a katsu/curry restaurant hence the 4 stars. \\n\\nWould come back again to try the bbq and other ramen! Great addition to the neighborhood.</td>\n",
              "      <td>4</td>\n",
              "    </tr>\n",
              "    <tr>\n",
              "      <th>106853</th>\n",
              "      <td>After begging my wife for years to give this place a try, based on the overwhelmingly positive YELP reviews (my wife was reluctant to get food from a gas station), she finally caved.\\n\\nQuite a find. Amazing food. Friendly service. Probably the best food in the area (I put the place on a par with the local TJ's).\\n\\nFresh food. Turkey in the turkey sandwich was real turkey and not lunch meat. Well balanced flavors. Large proportions. Reasonable prices (some items quite inexpensive!)\\n\\nI messed my shirt inhaling the grilled brie sandwich with fig jam but it was worth it!\\n\\nSalted caramel cheesecake was to die for. Best we ever had. Lady who arrived after us had come for it, but we had bought the last one.</td>\n",
              "      <td>5</td>\n",
              "    </tr>\n",
              "    <tr>\n",
              "      <th>123472</th>\n",
              "      <td>I'm torn. When I graduated in 2016 I was so proud. I'm a first generation graduate. But I haven't been able to get a job. It's a regional school. They don't know anything about it on the west coast. By 2017 I was unhoused (homeless). I must mention that I came out just before graduation. I was flying high and said f*** it. But the alumni didn't want to help me clothe the homeless. I was gonna outfit them when I lived in Cali on the streets. Give em to Berkeley and Stanford unhoused residents. As a tongue-in-cheek jab at the white collar schools who cater to the rich out there. It would've put us on the map out there and also done good for ppl. C'est la vie. \\n\\nMy time as a double major was difficult. But they gave me the opportunity to study abroad and it opened my eyes. Abroad was where I came to terms with my sexuality and then my gender identity. It was monumental. But I was always treated by the school as a number not a person. Like tuc43202 (not my student id num but u get the gist). \\n\\nThe professors were incredible. The education is on par with Penn. No doubt. My professors were doctors some were published. On tv. And well known. As well as respected. Ivy League schools are only considered better bcuz rich ppl said so. They also donate more as alums. Bcuz they can. So they can fund projects and legacies. But what's written in our textbooks is the same info as the Ivy league. They don't learn alternative facts. We learn the same material from great professors. \\n\\nUndoubtedly I learned so much. But I commuted from home. I know the area well. It's not safe outside the campus. Which is a failure of the city. Moreover the lack of opportunity. The city is run by the rich. Rittenhouse square is so close yet so far removed from Kensington. The problem with North Philly lies in the bloody hands of capitalism. \\n\\nBut it's not that bad. As Temple has PA's third largest police force. They patrol like a mf. Which is good for the students but tense for the bipoc residents close by. \\n\\nAfter graduating I was sent an extraordinary bill. Which I will never pay back. I'm too poor. Coming out was cool but it didn't help me career wise. But so what. I'm me fu if ya don't like it. \\n\\nThe school was great. No doubt. But the elites in charge are more concerned with profits than people. But our institutions are not wholly to blame. Though my diploma has the name of a dean who left in disgrace. It's the gov't who made it this way. Who fail to educate everyone who wishes to be. As a university with public funding one would think it would be free, like my high school was. Local taxes paid for my education. State taxes should pay state colleges. But I digress. \\n\\nOverall, I would still recommend this school. Even though I hate the front office and the alumni. Who also make getting a new diploma with my new name a real chore. They still have phenomenal educators. The students are brilliant and they can be quite helpful and fun to talk to. But it's a large school. Bugger than some towns. So there's some jerks too. No shortage. But the food on campus was pretty damn good. Kinda nice surprise. \\n\\nThe student center is cool af. Loved the library too. And from some of the top floors are stunning cityscape views. Honestly, this is a great school that is underrated nationally. But rankings are arbitrary nonsense that cater to wealth. They don't capture the truth. This place can hold its own with any school. I'm glad I went here. Even though I'm off and on unhoused, chronically unemployed, and seriously struggling.</td>\n",
              "      <td>3</td>\n",
              "    </tr>\n",
              "    <tr>\n",
              "      <th>112233</th>\n",
              "      <td>Jackie did a beautiful job on my pedicure. She is an artist. Very nice place to relax and affordable too. Thank you!!!!</td>\n",
              "      <td>5</td>\n",
              "    </tr>\n",
              "    <tr>\n",
              "      <th>133972</th>\n",
              "      <td>Jeff and Geoff are excellent. The attention to detail, the humor provided and the kindness, and the age-appropriate lessons are amazing. The ease of scheduling online is very convenient. Excellent swimmers who are now sharing their love of the sport and their expertise with little ones. I couldn't be happier with how much my son has learned in only four lessons. Thankyou!!</td>\n",
              "      <td>5</td>\n",
              "    </tr>\n",
              "  </tbody>\n",
              "</table>\n",
              "</div>\n",
              "      <button class=\"colab-df-convert\" onclick=\"convertToInteractive('df-02f1bfc6-a3ac-443c-b480-95e58c216226')\"\n",
              "              title=\"Convert this dataframe to an interactive table.\"\n",
              "              style=\"display:none;\">\n",
              "        \n",
              "  <svg xmlns=\"http://www.w3.org/2000/svg\" height=\"24px\"viewBox=\"0 0 24 24\"\n",
              "       width=\"24px\">\n",
              "    <path d=\"M0 0h24v24H0V0z\" fill=\"none\"/>\n",
              "    <path d=\"M18.56 5.44l.94 2.06.94-2.06 2.06-.94-2.06-.94-.94-2.06-.94 2.06-2.06.94zm-11 1L8.5 8.5l.94-2.06 2.06-.94-2.06-.94L8.5 2.5l-.94 2.06-2.06.94zm10 10l.94 2.06.94-2.06 2.06-.94-2.06-.94-.94-2.06-.94 2.06-2.06.94z\"/><path d=\"M17.41 7.96l-1.37-1.37c-.4-.4-.92-.59-1.43-.59-.52 0-1.04.2-1.43.59L10.3 9.45l-7.72 7.72c-.78.78-.78 2.05 0 2.83L4 21.41c.39.39.9.59 1.41.59.51 0 1.02-.2 1.41-.59l7.78-7.78 2.81-2.81c.8-.78.8-2.07 0-2.86zM5.41 20L4 18.59l7.72-7.72 1.47 1.35L5.41 20z\"/>\n",
              "  </svg>\n",
              "      </button>\n",
              "      \n",
              "  <style>\n",
              "    .colab-df-container {\n",
              "      display:flex;\n",
              "      flex-wrap:wrap;\n",
              "      gap: 12px;\n",
              "    }\n",
              "\n",
              "    .colab-df-convert {\n",
              "      background-color: #E8F0FE;\n",
              "      border: none;\n",
              "      border-radius: 50%;\n",
              "      cursor: pointer;\n",
              "      display: none;\n",
              "      fill: #1967D2;\n",
              "      height: 32px;\n",
              "      padding: 0 0 0 0;\n",
              "      width: 32px;\n",
              "    }\n",
              "\n",
              "    .colab-df-convert:hover {\n",
              "      background-color: #E2EBFA;\n",
              "      box-shadow: 0px 1px 2px rgba(60, 64, 67, 0.3), 0px 1px 3px 1px rgba(60, 64, 67, 0.15);\n",
              "      fill: #174EA6;\n",
              "    }\n",
              "\n",
              "    [theme=dark] .colab-df-convert {\n",
              "      background-color: #3B4455;\n",
              "      fill: #D2E3FC;\n",
              "    }\n",
              "\n",
              "    [theme=dark] .colab-df-convert:hover {\n",
              "      background-color: #434B5C;\n",
              "      box-shadow: 0px 1px 3px 1px rgba(0, 0, 0, 0.15);\n",
              "      filter: drop-shadow(0px 1px 2px rgba(0, 0, 0, 0.3));\n",
              "      fill: #FFFFFF;\n",
              "    }\n",
              "  </style>\n",
              "\n",
              "      <script>\n",
              "        const buttonEl =\n",
              "          document.querySelector('#df-02f1bfc6-a3ac-443c-b480-95e58c216226 button.colab-df-convert');\n",
              "        buttonEl.style.display =\n",
              "          google.colab.kernel.accessAllowed ? 'block' : 'none';\n",
              "\n",
              "        async function convertToInteractive(key) {\n",
              "          const element = document.querySelector('#df-02f1bfc6-a3ac-443c-b480-95e58c216226');\n",
              "          const dataTable =\n",
              "            await google.colab.kernel.invokeFunction('convertToInteractive',\n",
              "                                                     [key], {});\n",
              "          if (!dataTable) return;\n",
              "\n",
              "          const docLinkHtml = 'Like what you see? Visit the ' +\n",
              "            '<a target=\"_blank\" href=https://colab.research.google.com/notebooks/data_table.ipynb>data table notebook</a>'\n",
              "            + ' to learn more about interactive tables.';\n",
              "          element.innerHTML = '';\n",
              "          dataTable['output_type'] = 'display_data';\n",
              "          await google.colab.output.renderOutput(dataTable, element);\n",
              "          const docLink = document.createElement('div');\n",
              "          docLink.innerHTML = docLinkHtml;\n",
              "          element.appendChild(docLink);\n",
              "        }\n",
              "      </script>\n",
              "    </div>\n",
              "  </div>\n",
              "  "
            ]
          },
          "metadata": {},
          "execution_count": 11
        }
      ]
    },
    {
      "cell_type": "code",
      "source": [
        "data['stars'].value_counts()"
      ],
      "metadata": {
        "colab": {
          "base_uri": "https://localhost:8080/"
        },
        "id": "ZKsExOCrF2KH",
        "outputId": "a1377497-c03a-4aae-862a-eab59e410a04"
      },
      "execution_count": 15,
      "outputs": [
        {
          "output_type": "execute_result",
          "data": {
            "text/plain": [
              "5    73950\n",
              "4    32869\n",
              "1    24745\n",
              "3    15651\n",
              "2    12527\n",
              "Name: stars, dtype: int64"
            ]
          },
          "metadata": {},
          "execution_count": 15
        }
      ]
    },
    {
      "cell_type": "code",
      "source": [
        "X_train, X_test, y_train, y_test = train_test_split(data['text'], data['stars'], test_size = 0.2, stratify = data['stars'], random_state = 1)"
      ],
      "metadata": {
        "id": "pOW_Kz-QGF7_"
      },
      "execution_count": 16,
      "outputs": []
    },
    {
      "cell_type": "code",
      "source": [
        "X_train.shape"
      ],
      "metadata": {
        "colab": {
          "base_uri": "https://localhost:8080/"
        },
        "id": "tf5x8jTEG1QW",
        "outputId": "639d2af2-4a2e-49ea-c91b-df2b1e3a3062"
      },
      "execution_count": 17,
      "outputs": [
        {
          "output_type": "execute_result",
          "data": {
            "text/plain": [
              "(127793,)"
            ]
          },
          "metadata": {},
          "execution_count": 17
        }
      ]
    },
    {
      "cell_type": "code",
      "source": [
        "pd.Series(y_train).value_counts(normalize = True)"
      ],
      "metadata": {
        "colab": {
          "base_uri": "https://localhost:8080/"
        },
        "id": "171kloD8G2_Q",
        "outputId": "31e4ea4b-0f6b-4e62-e397-e601a98294d9"
      },
      "execution_count": 18,
      "outputs": [
        {
          "output_type": "execute_result",
          "data": {
            "text/plain": [
              "5    0.462936\n",
              "4    0.205762\n",
              "1    0.154907\n",
              "3    0.097979\n",
              "2    0.078416\n",
              "Name: stars, dtype: float64"
            ]
          },
          "metadata": {},
          "execution_count": 18
        }
      ]
    },
    {
      "cell_type": "code",
      "source": [
        "X_test.shape"
      ],
      "metadata": {
        "colab": {
          "base_uri": "https://localhost:8080/"
        },
        "id": "-0u_7y69G7Vv",
        "outputId": "beab1e51-a412-4b5f-a3da-00067c40a442"
      },
      "execution_count": 19,
      "outputs": [
        {
          "output_type": "execute_result",
          "data": {
            "text/plain": [
              "(31949,)"
            ]
          },
          "metadata": {},
          "execution_count": 19
        }
      ]
    },
    {
      "cell_type": "code",
      "source": [
        "pd.Series(y_test).value_counts(normalize = True)"
      ],
      "metadata": {
        "colab": {
          "base_uri": "https://localhost:8080/"
        },
        "id": "TutYceF7G-4A",
        "outputId": "bb86733c-85c5-4318-9774-fe0fdd7a4fea"
      },
      "execution_count": 20,
      "outputs": [
        {
          "output_type": "execute_result",
          "data": {
            "text/plain": [
              "5    0.462925\n",
              "4    0.205765\n",
              "1    0.154903\n",
              "3    0.097969\n",
              "2    0.078438\n",
              "Name: stars, dtype: float64"
            ]
          },
          "metadata": {},
          "execution_count": 20
        }
      ]
    },
    {
      "cell_type": "code",
      "source": [
        "bow = CountVectorizer(tokenizer = tokenizer, stop_words = stop_words, lowercase = True)"
      ],
      "metadata": {
        "id": "9NjXTxjpHA9X"
      },
      "execution_count": 21,
      "outputs": []
    },
    {
      "cell_type": "code",
      "source": [
        "X_bow = bow.fit_transform(X_train)"
      ],
      "metadata": {
        "id": "djbSifnFHC2X"
      },
      "execution_count": 22,
      "outputs": []
    },
    {
      "cell_type": "code",
      "source": [
        "len(bow.vocabulary_)"
      ],
      "metadata": {
        "colab": {
          "base_uri": "https://localhost:8080/"
        },
        "id": "gnK8QtNdH0EH",
        "outputId": "4c3146a9-a534-490a-a9a9-86786ac01814"
      },
      "execution_count": 23,
      "outputs": [
        {
          "output_type": "execute_result",
          "data": {
            "text/plain": [
              "105259"
            ]
          },
          "metadata": {},
          "execution_count": 23
        }
      ]
    },
    {
      "cell_type": "code",
      "source": [
        "tfidf = TfidfVectorizer(tokenizer = tokenizer, stop_words = stop_words, lowercase = True)"
      ],
      "metadata": {
        "id": "755ZTU52H1uG"
      },
      "execution_count": 24,
      "outputs": []
    },
    {
      "cell_type": "code",
      "source": [
        "X_tfidf = tfidf.fit_transform(X_train)"
      ],
      "metadata": {
        "id": "KuGxr1ajH3Ku"
      },
      "execution_count": 25,
      "outputs": []
    },
    {
      "cell_type": "code",
      "source": [
        "len(tfidf.vocabulary_)"
      ],
      "metadata": {
        "colab": {
          "base_uri": "https://localhost:8080/"
        },
        "id": "MAIRVwfGH6QG",
        "outputId": "2b5903c5-63d1-4ff5-ca89-048de3544e50"
      },
      "execution_count": 26,
      "outputs": [
        {
          "output_type": "execute_result",
          "data": {
            "text/plain": [
              "105259"
            ]
          },
          "metadata": {},
          "execution_count": 26
        }
      ]
    },
    {
      "cell_type": "code",
      "source": [
        "bow_model = RandomForestClassifier(random_state = 2)"
      ],
      "metadata": {
        "id": "eIz6fX52H71-"
      },
      "execution_count": 27,
      "outputs": []
    },
    {
      "cell_type": "code",
      "source": [
        "bow_model.fit(X_bow, y_train)"
      ],
      "metadata": {
        "colab": {
          "base_uri": "https://localhost:8080/"
        },
        "id": "HdaU_Fh5H9RH",
        "outputId": "25c3d2e2-f0d7-4132-c1e1-e71012bf0397"
      },
      "execution_count": 28,
      "outputs": [
        {
          "output_type": "execute_result",
          "data": {
            "text/plain": [
              "RandomForestClassifier(random_state=2)"
            ]
          },
          "metadata": {},
          "execution_count": 28
        }
      ]
    },
    {
      "cell_type": "code",
      "source": [
        "pd.Series(bow_model.feature_importances_, index = bow.vocabulary_).sort_values().tail(20).plot.barh(figsize = (15, 10))"
      ],
      "metadata": {
        "colab": {
          "base_uri": "https://localhost:8080/",
          "height": 609
        },
        "id": "1UcCFEJ2IQIv",
        "outputId": "fc8b005a-f195-450b-f831-37a19ab426ff"
      },
      "execution_count": 30,
      "outputs": [
        {
          "output_type": "execute_result",
          "data": {
            "text/plain": [
              "<matplotlib.axes._subplots.AxesSubplot at 0x7f8410d8f7d0>"
            ]
          },
          "metadata": {},
          "execution_count": 30
        },
        {
          "output_type": "display_data",
          "data": {
            "text/plain": [
              "<Figure size 1080x720 with 1 Axes>"
            ],
            "image/png": "[encoded data removed]"
          },
          "metadata": {
            "needs_background": "light"
          }
        }
      ]
    },
    {
      "cell_type": "code",
      "source": [
        "bow_estimators = bow_model.estimators_\n",
        "print('Number of trees:', len(bow_estimators))\n",
        "print('Trees depth (mean):', np.mean([tree.get_depth() for tree in bow_estimators]))"
      ],
      "metadata": {
        "colab": {
          "base_uri": "https://localhost:8080/"
        },
        "id": "PdFtxPtPJxgW",
        "outputId": "fe694419-d0b4-49fb-bb8f-5681a0672479"
      },
      "execution_count": 29,
      "outputs": [
        {
          "output_type": "stream",
          "name": "stdout",
          "text": [
            "Number of trees: 100\n",
            "Trees depth (mean): 576.98\n"
          ]
        }
      ]
    },
    {
      "cell_type": "code",
      "source": [
        "y_train_bow_predict = bow_model.predict(X_bow)\n",
        "y_test_bow_predict = bow_model.predict(bow.transform(X_test))"
      ],
      "metadata": {
        "id": "EeWBEaPAJzRO"
      },
      "execution_count": 31,
      "outputs": []
    },
    {
      "cell_type": "code",
      "source": [
        "ConfusionMatrixDisplay.from_predictions(y_train, y_train_bow_predict)"
      ],
      "metadata": {
        "colab": {
          "base_uri": "https://localhost:8080/",
          "height": 296
        },
        "id": "upm1sce8J1AW",
        "outputId": "3ad2b8bc-4961-4ce8-b741-38563457f672"
      },
      "execution_count": 32,
      "outputs": [
        {
          "output_type": "execute_result",
          "data": {
            "text/plain": [
              "<sklearn.metrics._plot.confusion_matrix.ConfusionMatrixDisplay at 0x7f84113e7950>"
            ]
          },
          "metadata": {},
          "execution_count": 32
        },
        {
          "output_type": "display_data",
          "data": {
            "text/plain": [
              "<Figure size 432x288 with 2 Axes>"
            ],
            "image/png": "[encoded data removed]"
          },
          "metadata": {
            "needs_background": "light"
          }
        }
      ]
    },
    {
      "cell_type": "code",
      "source": [
        "ConfusionMatrixDisplay.from_predictions(y_test, y_test_bow_predict)"
      ],
      "metadata": {
        "colab": {
          "base_uri": "https://localhost:8080/",
          "height": 296
        },
        "id": "I2Q6AWsFJ2GW",
        "outputId": "3a163eec-dbf5-4da9-9c77-57bb498574fa"
      },
      "execution_count": 33,
      "outputs": [
        {
          "output_type": "execute_result",
          "data": {
            "text/plain": [
              "<sklearn.metrics._plot.confusion_matrix.ConfusionMatrixDisplay at 0x7f8411bb1950>"
            ]
          },
          "metadata": {},
          "execution_count": 33
        },
        {
          "output_type": "display_data",
          "data": {
            "text/plain": [
              "<Figure size 432x288 with 2 Axes>"
            ],
            "image/png": "[encoded data removed]"
          },
          "metadata": {
            "needs_background": "light"
          }
        }
      ]
    },
    {
      "cell_type": "code",
      "source": [
        "if len(bow_model.classes_) == 2:\n",
        "    print('Precision:', precision_score(y_train, y_train_bow_predict, pos_label = 'positive'))\n",
        "    print('Recall:', recall_score(y_train, y_train_bow_predict, pos_label = 'positive'))\n",
        "    print('F1:', f1_score(y_train, y_train_bow_predict, pos_label = 'positive'))\n",
        "else:\n",
        "    # Para casos no binarios, es común calcular las métricas para cada clase\n",
        "    print('Precision:', precision_score(y_train, y_train_bow_predict, average = None))\n",
        "    print('Recall:', recall_score(y_train, y_train_bow_predict, average = None))\n",
        "    print('F1:', f1_score(y_train, y_train_bow_predict, average = None))"
      ],
      "metadata": {
        "colab": {
          "base_uri": "https://localhost:8080/"
        },
        "id": "58x28j9EJ35W",
        "outputId": "1020f1e9-796b-4069-8fed-638918b8db8a"
      },
      "execution_count": 34,
      "outputs": [
        {
          "output_type": "stream",
          "name": "stdout",
          "text": [
            "Precision: [0.99994949 1.         1.         1.         0.9999831 ]\n",
            "Recall: [1.         1.         1.         0.99992394 1.        ]\n",
            "F1: [0.99997474 1.         1.         0.99996197 0.99999155]\n"
          ]
        }
      ]
    },
    {
      "cell_type": "code",
      "source": [
        "if len(bow_model.classes_) == 2:\n",
        "    print('Precision:', precision_score(y_test, y_test_bow_predict, pos_label = 'positive'))\n",
        "    print('Recall:', recall_score(y_test, y_test_bow_predict, pos_label = 'positive'))\n",
        "    print('F1:', f1_score(y_test, y_test_bow_predict, pos_label = 'positive'))\n",
        "else:\n",
        "    # Para casos no binarios, es común calcular las métricas para cada clase\n",
        "    print('Precision:', precision_score(y_test, y_test_bow_predict, average = None))\n",
        "    print('Recall:', recall_score(y_test, y_test_bow_predict, average = None))\n",
        "    print('F1:', f1_score(y_test, y_test_bow_predict, average = None))"
      ],
      "metadata": {
        "colab": {
          "base_uri": "https://localhost:8080/"
        },
        "id": "y13KcG4jJ6Ee",
        "outputId": "7baa0427-98e1-41ae-a07e-4df6a42d0006"
      },
      "execution_count": 35,
      "outputs": [
        {
          "output_type": "stream",
          "name": "stdout",
          "text": [
            "Precision: [0.69865861 0.50769231 0.48376623 0.39954233 0.59780895]\n",
            "Recall: [0.74722166 0.0131684  0.04760383 0.13279586 0.97403651]\n",
            "F1: [0.72212459 0.02567095 0.0866783  0.19933782 0.74089693]\n"
          ]
        }
      ]
    }
  ]
}