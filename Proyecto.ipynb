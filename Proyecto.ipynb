{
 "cells": [
  {
   "cell_type": "markdown",
   "id": "515d4f4f-e49a-4a11-835d-6af59f28c41c",
   "metadata": {},
   "source": [
    "# Proyecto 1\n",
    "\n",
    "## Importacion de librerias, descarga de stopwords y funcion para tokenizar"
   ]
  },
  {
   "cell_type": "code",
   "execution_count": 1,
   "id": "f49c82c3-048a-4c94-8195-45516f21c09b",
   "metadata": {},
   "outputs": [],
   "source": [
    "import string\n",
    "\n",
    "import numpy as np\n",
    "import pandas as pd\n",
    "\n",
    "import nltk\n",
    "from nltk.corpus import stopwords\n",
    "from nltk.tokenize import TweetTokenizer\n",
    "\n",
    "from sklearn.model_selection import train_test_split\n",
    "from sklearn.feature_extraction.text import CountVectorizer, TfidfVectorizer\n",
    "\n",
    "from sklearn.ensemble import RandomForestClassifier\n",
    "\n",
    "from sklearn.pipeline import Pipeline\n",
    "from sklearn.model_selection import GridSearchCV\n",
    "\n",
    "from sklearn.metrics import ConfusionMatrixDisplay, precision_score, recall_score, f1_score"
   ]
  },
  {
   "cell_type": "code",
   "execution_count": 2,
   "id": "f5d20e0a-4aa3-4a6e-85fd-e81c3d56e726",
   "metadata": {},
   "outputs": [
    {
     "name": "stderr",
     "output_type": "stream",
     "text": [
      "[nltk_data] Downloading package stopwords to /home/alex/nltk_data...\n",
      "[nltk_data]   Package stopwords is already up-to-date!\n"
     ]
    }
   ],
   "source": [
    "nltk.download('stopwords')\n",
    "stop_words = set(stopwords.words('english'))"
   ]
  },
  {
   "cell_type": "code",
   "execution_count": 3,
   "id": "4f0371cb-db22-4182-a343-32b430d7eedd",
   "metadata": {},
   "outputs": [],
   "source": [
    "def tokenizer(text):\n",
    "    tt = TweetTokenizer()\n",
    "    return tt.tokenize(text)"
   ]
  },
  {
   "cell_type": "markdown",
   "id": "7c53d960-918a-4e8d-b108-b281e13d3c4f",
   "metadata": {},
   "source": [
    "## Importacion de datos de entrenamiento"
   ]
  },
  {
   "cell_type": "code",
   "execution_count": 5,
   "id": "aba222bd-5a42-4602-908a-76ecdbaf4779",
   "metadata": {},
   "outputs": [],
   "source": [
    "df = pd.read_csv('./data/reviews_train_val.csv')"
   ]
  },
  {
   "cell_type": "code",
   "execution_count": 6,
   "id": "21ea068f-df42-42b0-a2fc-cfe21d3ad290",
   "metadata": {},
   "outputs": [
    {
     "data": {
      "text/plain": [
       "(314562, 2)"
      ]
     },
     "execution_count": 6,
     "metadata": {},
     "output_type": "execute_result"
    }
   ],
   "source": [
    "df.shape"
   ]
  },
  {
   "cell_type": "code",
   "execution_count": 7,
   "id": "0fcf11dd-3192-4ebe-a866-2472a6c47118",
   "metadata": {},
   "outputs": [
    {
     "data": {
      "text/html": [
       "<div>\n",
       "<style scoped>\n",
       "    .dataframe tbody tr th:only-of-type {\n",
       "        vertical-align: middle;\n",
       "    }\n",
       "\n",
       "    .dataframe tbody tr th {\n",
       "        vertical-align: top;\n",
       "    }\n",
       "\n",
       "    .dataframe thead th {\n",
       "        text-align: right;\n",
       "    }\n",
       "</style>\n",
       "<table border=\"1\" class=\"dataframe\">\n",
       "  <thead>\n",
       "    <tr style=\"text-align: right;\">\n",
       "      <th></th>\n",
       "      <th>text</th>\n",
       "      <th>stars</th>\n",
       "    </tr>\n",
       "  </thead>\n",
       "  <tbody>\n",
       "    <tr>\n",
       "      <th>0</th>\n",
       "      <td>Tried out the Sushi Bar for the first time las...</td>\n",
       "      <td>4</td>\n",
       "    </tr>\n",
       "    <tr>\n",
       "      <th>1</th>\n",
       "      <td>It is a PA store which is a problem for good w...</td>\n",
       "      <td>1</td>\n",
       "    </tr>\n",
       "    <tr>\n",
       "      <th>2</th>\n",
       "      <td>Great cigar shop. Good selection with a very h...</td>\n",
       "      <td>4</td>\n",
       "    </tr>\n",
       "    <tr>\n",
       "      <th>3</th>\n",
       "      <td>Had a BLAST! It's a little disorganized in the...</td>\n",
       "      <td>5</td>\n",
       "    </tr>\n",
       "    <tr>\n",
       "      <th>4</th>\n",
       "      <td>Why does this nail salon still exist. Welp, be...</td>\n",
       "      <td>1</td>\n",
       "    </tr>\n",
       "  </tbody>\n",
       "</table>\n",
       "</div>"
      ],
      "text/plain": [
       "                                                text  stars\n",
       "0  Tried out the Sushi Bar for the first time las...      4\n",
       "1  It is a PA store which is a problem for good w...      1\n",
       "2  Great cigar shop. Good selection with a very h...      4\n",
       "3  Had a BLAST! It's a little disorganized in the...      5\n",
       "4  Why does this nail salon still exist. Welp, be...      1"
      ]
     },
     "execution_count": 7,
     "metadata": {},
     "output_type": "execute_result"
    }
   ],
   "source": [
    "df.head()"
   ]
  },
  {
   "cell_type": "code",
   "execution_count": 8,
   "id": "c18048c2-1cd4-44b2-8fed-d1d16ef541c4",
   "metadata": {},
   "outputs": [
    {
     "data": {
      "text/plain": [
       "5    145748\n",
       "4     64891\n",
       "1     48453\n",
       "3     30928\n",
       "2     24542\n",
       "Name: stars, dtype: int64"
      ]
     },
     "execution_count": 8,
     "metadata": {},
     "output_type": "execute_result"
    }
   ],
   "source": [
    "df['stars'].value_counts()"
   ]
  },
  {
   "cell_type": "markdown",
   "id": "e14a6834-5c04-477f-adbe-c73ae154b3dc",
   "metadata": {},
   "source": [
    "## Importacion de datos de prueba"
   ]
  },
  {
   "cell_type": "code",
   "execution_count": 9,
   "id": "670c2238-1f0d-4e8e-8f5a-b36dccff5a40",
   "metadata": {},
   "outputs": [],
   "source": [
    "df_test = pd.read_csv('./data/reviews_test_no_labels.csv')"
   ]
  },
  {
   "cell_type": "code",
   "execution_count": 10,
   "id": "14477816-77e2-466a-8982-749665174f63",
   "metadata": {},
   "outputs": [
    {
     "data": {
      "text/plain": [
       "(34952, 1)"
      ]
     },
     "execution_count": 10,
     "metadata": {},
     "output_type": "execute_result"
    }
   ],
   "source": [
    "df_test.shape"
   ]
  },
  {
   "cell_type": "code",
   "execution_count": 11,
   "id": "b886c540-cec0-47c8-883c-3a9b704b2b2e",
   "metadata": {},
   "outputs": [
    {
     "data": {
      "text/html": [
       "<div>\n",
       "<style scoped>\n",
       "    .dataframe tbody tr th:only-of-type {\n",
       "        vertical-align: middle;\n",
       "    }\n",
       "\n",
       "    .dataframe tbody tr th {\n",
       "        vertical-align: top;\n",
       "    }\n",
       "\n",
       "    .dataframe thead th {\n",
       "        text-align: right;\n",
       "    }\n",
       "</style>\n",
       "<table border=\"1\" class=\"dataframe\">\n",
       "  <thead>\n",
       "    <tr style=\"text-align: right;\">\n",
       "      <th></th>\n",
       "      <th>text</th>\n",
       "    </tr>\n",
       "  </thead>\n",
       "  <tbody>\n",
       "    <tr>\n",
       "      <th>0</th>\n",
       "      <td>Came here with friends who live local. Enjoyed...</td>\n",
       "    </tr>\n",
       "    <tr>\n",
       "      <th>1</th>\n",
       "      <td>My window was smashed out in December of 2018,...</td>\n",
       "    </tr>\n",
       "    <tr>\n",
       "      <th>2</th>\n",
       "      <td>This is no In &amp; Out burger. We finally drove t...</td>\n",
       "    </tr>\n",
       "    <tr>\n",
       "      <th>3</th>\n",
       "      <td>Just no on this company. Just don't do it.\\nI ...</td>\n",
       "    </tr>\n",
       "    <tr>\n",
       "      <th>4</th>\n",
       "      <td>DC (During COVID) this place one of the places...</td>\n",
       "    </tr>\n",
       "  </tbody>\n",
       "</table>\n",
       "</div>"
      ],
      "text/plain": [
       "                                                text\n",
       "0  Came here with friends who live local. Enjoyed...\n",
       "1  My window was smashed out in December of 2018,...\n",
       "2  This is no In & Out burger. We finally drove t...\n",
       "3  Just no on this company. Just don't do it.\\nI ...\n",
       "4  DC (During COVID) this place one of the places..."
      ]
     },
     "execution_count": 11,
     "metadata": {},
     "output_type": "execute_result"
    }
   ],
   "source": [
    "df_test.head()"
   ]
  }
 ],
 "metadata": {
  "kernelspec": {
   "display_name": "Python 3 (ipykernel)",
   "language": "python",
   "name": "python3"
  },
  "language_info": {
   "codemirror_mode": {
    "name": "ipython",
    "version": 3
   },
   "file_extension": ".py",
   "mimetype": "text/x-python",
   "name": "python",
   "nbconvert_exporter": "python",
   "pygments_lexer": "ipython3",
   "version": "3.9.12"
  }
 },
 "nbformat": 4,
 "nbformat_minor": 5
}
